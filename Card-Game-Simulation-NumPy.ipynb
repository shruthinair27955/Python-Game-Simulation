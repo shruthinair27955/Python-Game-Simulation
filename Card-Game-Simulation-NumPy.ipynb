{
 "cells": [
  {
   "cell_type": "markdown",
   "metadata": {},
   "source": [
    "# Card Game Simulation - NumPy"
   ]
  },
  {
   "cell_type": "markdown",
   "metadata": {},
   "source": [
    "### Background:\n",
    "In the classic card game War, a standard deck of (52) playing cards is shuffled and distributed evenly among two players (26 cards each). For each round of gameplay, the players lay out one card at a time (for our purposes, in order of how they have been dealt) and the player with the higher card wins the round (where Ace = 1, 2-10 equal their face value, and Jack, Queen, and King = 11, 12, 13, respectively, across each of the four suits: diamonds, hearts, clubs, spades).\n",
    "\n",
    "Ties are broken with additional plays until one player wins the full round\n",
    "(i.e., all of the cards played during the round, including those that were tied). Although variations of the game can continue until one player wins all of the cards, let's consider the simple case in which cards won during a previous round cannot be replayed.\n",
    "\n",
    "\n",
    "### Addition War:\n",
    "A variant of War, called Addition War, consists of two cards being played by each player at a time, where the player with the higher sum of two card values wins the round. Each player has a \"discard\" pile. The winner of the round takes their winning two cards and the loser's two cards and places the cards in his or her discard pile.\n",
    "\n",
    "Similar to the original game, ties are broken with additional plays of two cards each until one player wins all of the cards in the round.\n",
    "\n",
    "Once all cards have been played (once), the player with the higher score (sum of card values in the discard pile) wins the game. If the players run out of cards in the middle of a tiebreaker, assume that each player's respective cards (for that round) are returned to them for the final score."
   ]
  },
  {
   "cell_type": "markdown",
   "metadata": {},
   "source": [
    "## Exercise 1"
   ]
  },
  {
   "cell_type": "markdown",
   "metadata": {},
   "source": [
    "## Step 1.1\n",
    "Write (and execute) a statement that will generate a list of values associated with a standard deck of playing cards. You do not need to differentiate between suits (i.e., diamonds, hearts, clubs, spades), as they have no relevance for this particular game. The \"deck\" should have four 1's, four 2's, .... , four 11's (Jacks), and so on."
   ]
  },
  {
   "cell_type": "code",
   "execution_count": 638,
   "metadata": {},
   "outputs": [
    {
     "name": "stdout",
     "output_type": "stream",
     "text": [
      "List of values associated with a full standard deck of playing cards: [1, 2, 3, 4, 5, 6, 7, 8, 9, 10, 11, 12, 13, 1, 2, 3, 4, 5, 6, 7, 8, 9, 10, 11, 12, 13, 1, 2, 3, 4, 5, 6, 7, 8, 9, 10, 11, 12, 13, 1, 2, 3, 4, 5, 6, 7, 8, 9, 10, 11, 12, 13]\n"
     ]
    }
   ],
   "source": [
    "#Defining deck with card values for all 52 cards\n",
    "global Deck \n",
    "Deck = []\n",
    "Sum_Deck = 0\n",
    "for j in range (1,5):    \n",
    "    for i in range(1,14):\n",
    "        Deck.append(i)\n",
    "print(\"List of values associated with a full standard deck of playing cards: \"+ str(Deck))"
   ]
  },
  {
   "cell_type": "markdown",
   "metadata": {},
   "source": [
    "## Step 1.2\n",
    "Report the total value associated with a full deck of cards, which represents the maximum total for a game."
   ]
  },
  {
   "cell_type": "code",
   "execution_count": 639,
   "metadata": {},
   "outputs": [
    {
     "name": "stdout",
     "output_type": "stream",
     "text": [
      "Total value associated with a full standard deck of playing cards = 364\n"
     ]
    }
   ],
   "source": [
    "#Calculating the sum of values associated with standard deck of cards\n",
    "Sum_Deck = sum(Deck)\n",
    "print(\"Total value associated with a full standard deck of playing cards = \"+str(Sum_Deck))"
   ]
  },
  {
   "cell_type": "markdown",
   "metadata": {},
   "source": [
    "## Step 2.1\n",
    "Define a function deal that will shuffle (randomize) and distribute the 52 playing cards evenly to two players (26 each) and return a tuple of each player's hand (as a list of values). The function does not need to take in any arguments, and should create the deck of values internally (i.e., you should not need to input the deck of values into the function; you may reuse the statement you developed for part a). You may assume that you are always playing with a standard deck (52 cards). You may make use of any NumPy functionality to perform the shuffle operation."
   ]
  },
  {
   "cell_type": "code",
   "execution_count": 640,
   "metadata": {},
   "outputs": [],
   "source": [
    "#Defining deal function to deal 26 cards each randomly to both players using \"random.choice\"\n",
    "def deal():\n",
    "    Deck1 = Deck[:]\n",
    "    import random\n",
    "    global Player1\n",
    "    global Player2\n",
    "    global sum_player1\n",
    "    global sum_player2\n",
    "    Player1 = []\n",
    "    Player2 = []\n",
    "    \n",
    "    for i in range(26):\n",
    "        Player1.append((random.choice(Deck1)))\n",
    "    \n",
    "    #Removing cards given to Player1\n",
    "    \n",
    "        Deck1.remove(Player1[i])\n",
    "        \n",
    "#Converting Players' car lists to tuples and printing out the list of cards, number of cards and sum of values of cards with each player\n",
    "    Player1 = tuple(Player1)\n",
    "    Player2 = tuple(Deck1)\n",
    "    print(\"Player 1's hand:\"+str(Player1))\n",
    "    print(\"Player 2's hand:\"+str(Player2))\n",
    "    print(\"Number of cards with Player 1 = \"+str(len(Player1)))\n",
    "    print(\"Number of cards with Player 2 = \"+str(len(Player2)))\n",
    "    sum_player1 = sum(Player1)\n",
    "    sum_player2 = sum(Player2)\n",
    "    print(\"Total value of Player 1's hand = \"+str(sum_player1))\n",
    "    print(\"Total value of Player 2's hand = \"+str(sum_player2))"
   ]
  },
  {
   "cell_type": "markdown",
   "metadata": {},
   "source": [
    "## Step 2.2\n",
    "Deal a hand to two players and display (print) each player's hand. Print each player's number of cards and the total value of the hand."
   ]
  },
  {
   "cell_type": "code",
   "execution_count": 641,
   "metadata": {},
   "outputs": [
    {
     "name": "stdout",
     "output_type": "stream",
     "text": [
      "Player 1's hand:(11, 13, 1, 1, 11, 8, 7, 2, 13, 5, 6, 6, 8, 5, 3, 11, 3, 7, 7, 11, 10, 4, 1, 5, 10, 12)\n",
      "Player 2's hand:(9, 2, 4, 9, 12, 2, 3, 4, 6, 8, 9, 10, 12, 13, 1, 2, 3, 4, 5, 6, 7, 8, 9, 10, 12, 13)\n",
      "Number of cards with Player 1 = 26\n",
      "Number of cards with Player 2 = 26\n",
      "Total value of Player 1's hand = 181\n",
      "Total value of Player 2's hand = 183\n"
     ]
    }
   ],
   "source": [
    "#Deal hand to both players and display each player's hand, each player's number of cards and the total value of the hand\n",
    "deal()"
   ]
  },
  {
   "cell_type": "markdown",
   "metadata": {},
   "source": [
    "## Step 3.1\n",
    "\n",
    "### Steps in Addition War:\n",
    "\n",
    "1.  Shuffle deck. <br>\n",
    "2.  Deal half deck (26 cards) to each player. <br>\n",
    "3.  Each player plays two cards each. <br>\n",
    "4.  Player with higher value of sum of cards wins the round. <br>\n",
    "5.  Winner of round adds card to their respective discard pile. <br>\n",
    "6.  In case of a tie, both players play two cards each again. <br>\n",
    "7.  Repeat steps 4-6. <br>\n",
    "8.  If player runs out of cards in th middle of a tie, each player's cards of that round are returned to each of them     and points are calculated including those cards. <br>\n",
    "9.  Game terminates after a maximum of 13 rounds (occurs when there are no ties) and the deck is exhausted. <br>\n",
    "10.  The player with the highest total card points (in their discard pile) wins the game. <br>"
   ]
  },
  {
   "cell_type": "markdown",
   "metadata": {},
   "source": [
    "## Step 3.2\n",
    "Define a function play that will simulate a single game of Addition War between two players. This function will have no arguments. As written above, note that you will need to account for rounds in which a given player wins outright (i.e., after the initial play of two cards) and for rounds in which one or more ties occur. You will also need to terminate the game appropriately (i.e., after each player has played all of their cards once)."
   ]
  },
  {
   "cell_type": "code",
   "execution_count": 642,
   "metadata": {},
   "outputs": [],
   "source": [
    "#Defining play function for Addition War game\n",
    "def play():\n",
    "\n",
    "#Deal hand to both players using deal function defined above\n",
    "    import random\n",
    "    deal()\n",
    "\n",
    "#Defining variables for player hands(Player1, Player2), player totals after each round(sum1, sum2) and final totals (val1, val2) and a count variable - i.\n",
    "    global Player1\n",
    "    global Player2\n",
    "    sum1 = 0\n",
    "    sum2 = 0\n",
    "    global val1 \n",
    "    global val2\n",
    "    val1 = 0\n",
    "    val2 = 0\n",
    "    i = 0\n",
    "\n",
    "#Converting tuple to list to extract elements from list for each round\n",
    "    Player1 = list(Player1)\n",
    "    Player2 = list(Player2)\n",
    "    \n",
    "#Extracting first two cards from each player's hand using iter and zip\n",
    "    p1 = iter(Player1)\n",
    "    c1 = list(zip(p1,p1))\n",
    "    p2 = iter(Player2)\n",
    "    c2 = list(zip(p2,p2))\n",
    "    \n",
    "#Main condition for game to end - final sum of both players card totals should be equal to 364\n",
    "    while val1 + val2 < 364:\n",
    "        \n",
    "#Defining temporary variables sumt1, sumt2 to store sum of respective player's card value totals in case of tie rounds\n",
    "#sumtt1 and sumtt2 for tie within tie\n",
    "\n",
    "        sumt1 = 0\n",
    "        sumt2 = 0\n",
    "        sumtt1 = 0\n",
    "        sumtt2 = 0\n",
    "        card1 = c1[i]\n",
    "        sum1 = sum(card1)\n",
    "        card2 = c2[i]\n",
    "        sum2 = sum(card2)\n",
    "        i = i + 1\n",
    "        if sum1 > sum2:\n",
    "            val1 = val1 + sum1 + sum2\n",
    "        elif sum2 > sum1:\n",
    "            val2 = val2 + sum1 + sum2\n",
    "            \n",
    "#If player runs out of cards (since total number of cards is same for both players, if one player runs out of cards, other will too.)\n",
    "#Since there are 13 pairs of cards per player, when i==13, player runs out of cards\n",
    "        else:\n",
    "            if i == 13:\n",
    "                val1 = val1 + sum1\n",
    "                val2 = val2 + sum2\n",
    "                break\n",
    "#Case of tie \n",
    "            while sumtt1 == sumtt2:\n",
    "                card1 = c1[i]\n",
    "                sumtt1 = sum(card1)\n",
    "                sumt1 = sumt1 + sum(card1)\n",
    "\n",
    "                card2 = c2[i]\n",
    "                sumt2 = sumt2 + sum(card2)\n",
    "                sumtt2 = sum(card2)\n",
    "                \n",
    "                if sumtt1 > sumtt2:\n",
    "                    val1 = val1 + sum1 + sum2 + sumt1 + sumt2\n",
    "                elif sumtt2 > sumtt1:\n",
    "                    val2 = val2 + sum1 + sum2 + sumt1 + sumt2\n",
    "                elif i == 12:\n",
    "                    val1 = val1 + sum1 + sumt1\n",
    "                    val2 = val2 + sum2 + sumt2\n",
    "                    break\n",
    "                i = i + 1\n",
    "    return(val1,val2)"
   ]
  },
  {
   "cell_type": "markdown",
   "metadata": {},
   "source": [
    "## Step 3.3\n",
    "From your play function, return the winner of the game and the card totals for the winner and loser. Print the result."
   ]
  },
  {
   "cell_type": "code",
   "execution_count": 649,
   "metadata": {},
   "outputs": [
    {
     "name": "stdout",
     "output_type": "stream",
     "text": [
      "Player 1's hand:(10, 3, 1, 13, 4, 8, 7, 11, 2, 5, 12, 7, 6, 6, 11, 6, 13, 5, 7, 9, 10, 11, 13, 7, 12, 6)\n",
      "Player 2's hand:(1, 2, 3, 4, 8, 9, 1, 2, 3, 4, 5, 8, 9, 10, 12, 1, 2, 3, 4, 5, 8, 9, 10, 11, 12, 13)\n",
      "Number of cards with Player 1 = 26\n",
      "Number of cards with Player 2 = 26\n",
      "Total value of Player 1's hand = 205\n",
      "Total value of Player 2's hand = 159\n",
      "Winner is Player 1 with a total of 220 and Player 2's total is 144\n"
     ]
    }
   ],
   "source": [
    "play()\n",
    "\n",
    "if val1>val2:\n",
    "    print(\"Winner is Player 1 with a total of \" + str(val1) + \" and Player 2's total is \" + str(val2))\n",
    "elif val2>val2:\n",
    "    print(\"Winner is Player 2 with a total of \" + str(val2) + \" and Player 1's total is \" + str(val1))\n",
    "elif val1 == val2:\n",
    "    print(\"It's a tie! Both player's total scores are same, and is equal to \" + str(val1))"
   ]
  },
  {
   "cell_type": "markdown",
   "metadata": {},
   "source": [
    "## Step 4 - Analysis\n"
   ]
  },
  {
   "cell_type": "code",
   "execution_count": 650,
   "metadata": {},
   "outputs": [],
   "source": [
    "#Defining deal again as deal1 with no print statements\n",
    "def deal1():\n",
    "    Deck1 = Deck[:]\n",
    "    import random\n",
    "    global Player1\n",
    "    global Player2\n",
    "    global sum_player1\n",
    "    global sum_player2\n",
    "    Player1 = []\n",
    "    Player2 = []\n",
    "    \n",
    "    for i in range(26):\n",
    "        Player1.append((random.choice(Deck1)))\n",
    "        Deck1.remove(Player1[i])\n",
    "    Player1 = tuple(Player1)\n",
    "    Player2 = tuple(Deck1)\n",
    "\n",
    "    sum_player1 = sum(Player1)\n",
    "    sum_player2 = sum(Player2)\n",
    "\n",
    "#Defining play again as play1 with no print statements\n",
    "def play1():\n",
    "    import random\n",
    "    deal1()\n",
    "    global Player1\n",
    "    global Player2\n",
    "    sum1 = 0\n",
    "    sum2 = 0\n",
    "    global val1 \n",
    "    global val2\n",
    "    val1 = 0\n",
    "    val2 = 0\n",
    "    i = 0\n",
    "    Player1 = list(Player1)\n",
    "    Player2 = list(Player2)\n",
    "    p1 = iter(Player1)\n",
    "    c1 = list(zip(p1,p1))\n",
    "    p2 = iter(Player2)\n",
    "    c2 = list(zip(p2,p2))\n",
    "    while val1 + val2 < 364:\n",
    "        sumt1 = 0\n",
    "        sumt2 = 0\n",
    "        sumtt1 = 0\n",
    "        sumtt2 = 0\n",
    "        card1 = c1[i]\n",
    "        sum1 = sum(card1)\n",
    "        card2 = c2[i]\n",
    "        sum2 = sum(card2)\n",
    "        i = i + 1\n",
    "        if sum1 > sum2:\n",
    "            val1 = val1 + sum1 + sum2\n",
    "        elif sum2 > sum1:\n",
    "            val2 = val2 + sum1 + sum2\n",
    "        else:\n",
    "            if i == 13:\n",
    "                val1 = val1 + sum1\n",
    "                val2 = val2 + sum2\n",
    "                break\n",
    "\n",
    "            while sumtt1 == sumtt2:\n",
    "                card1 = c1[i]\n",
    "                sumtt1 = sum(card1)\n",
    "                sumt1 = sumt1 + sum(card1)\n",
    "\n",
    "                card2 = c2[i]\n",
    "                sumt2 = sumt2 + sum(card2)\n",
    "                sumtt2 = sum(card2)\n",
    "                \n",
    "                if sumtt1 > sumtt2:\n",
    "                    val1 = val1 + sum1 + sum2 + sumt1 + sumt2\n",
    "                elif sumtt2 > sumtt1:\n",
    "                    val2 = val2 + sum1 + sum2 + sumt1 + sumt2\n",
    "                elif i == 12:\n",
    "                    val1 = val1 + sum1 + sumt1\n",
    "                    val2 = val2 + sum2 + sumt2\n",
    "                    break\n",
    "                i = i + 1\n",
    "    return(val1,val2)"
   ]
  },
  {
   "cell_type": "markdown",
   "metadata": {},
   "source": [
    "## Set Up:"
   ]
  },
  {
   "cell_type": "code",
   "execution_count": 651,
   "metadata": {},
   "outputs": [],
   "source": [
    "import statistics\n",
    "import numpy as np\n",
    "maximum = 0\n",
    "minimum = 0\n",
    "average = 0\n",
    "count = 0\n",
    "Winner_Final_List = []\n",
    "Loser_Final_List = []\n",
    "Winner_Initial_List = []\n",
    "Loser_Initial_List = []\n",
    "for i in range(1,21):\n",
    "    play1()\n",
    "    if val1>val2:\n",
    "        Winner_Initial_List.append(sum_player1)\n",
    "        Winner_Final_List.append(val1)\n",
    "        Loser_Initial_List.append(sum_player2)\n",
    "        Loser_Final_List.append(val2)\n",
    "        \n",
    "    else:\n",
    "        Winner_Initial_List.append(sum_player2)\n",
    "        Winner_Final_List.append(val2)\n",
    "        Loser_Initial_List.append(sum_player1)\n",
    "        Loser_Final_List.append(val1)\n",
    "        "
   ]
  },
  {
   "cell_type": "markdown",
   "metadata": {},
   "source": [
    "## Step 4.1\n",
    "Extract the final scores for the winning and losing players, and produce descriptive statistics for each scenario, specifically the\n",
    "minimum, mean, and maximum totals after each game. What do you observe about the winning and losing totals?"
   ]
  },
  {
   "cell_type": "code",
   "execution_count": 652,
   "metadata": {},
   "outputs": [
    {
     "name": "stdout",
     "output_type": "stream",
     "text": [
      "List of Winner Totals : [232, 253, 189, 343, 213, 221, 243, 239, 314, 201, 191, 230, 191, 228, 201, 270, 232, 205, 218, 222]\n",
      "\n",
      "List of Loser Totals : [132, 111, 175, 21, 151, 143, 121, 125, 50, 163, 173, 134, 173, 136, 163, 94, 132, 159, 146, 142]\n",
      "\n",
      "Minimum value of Winners' Total = 189\n",
      "\n",
      "Maximum value of Winners' Total = 343\n",
      "\n",
      "Mean value of Winners' Total = 231.8\n",
      "\n",
      "Minimum value of Loser' Total = 21\n",
      "\n",
      "Maximum value of Losers' Total = 175\n",
      "\n",
      "Mean value of Losers' Total = 132.2\n",
      "\n"
     ]
    }
   ],
   "source": [
    "#Using min, max and np.mean functions to get minimum, maximum and mean values of final winner and loser totals\n",
    "\n",
    "print(\"List of Winner Totals : \" + str(Winner_Final_List))\n",
    "print(\"\")\n",
    "print(\"List of Loser Totals : \" + str(Loser_Final_List))\n",
    "print(\"\")\n",
    "print(\"Minimum value of Winners' Total = \"+ str(min(Winner_Final_List)))\n",
    "print(\"\")\n",
    "print(\"Maximum value of Winners' Total = \"+ str(max(Winner_Final_List)))\n",
    "print(\"\")\n",
    "print(\"Mean value of Winners' Total = \"+ str(np.mean(Winner_Final_List)))\n",
    "print(\"\")\n",
    "print(\"Minimum value of Loser' Total = \"+ str(min(Loser_Final_List)))\n",
    "print(\"\")\n",
    "print(\"Maximum value of Losers' Total = \"+ str(max(Loser_Final_List)))\n",
    "print(\"\")\n",
    "print(\"Mean value of Losers' Total = \"+ str(np.mean(Loser_Final_List)))\n",
    "print(\"\")"
   ]
  },
  {
   "cell_type": "markdown",
   "metadata": {},
   "source": [
    "#### Observations:\n",
    "\n",
    "1. For each round, sum of Winning and Losing total is equal to 364.\n",
    "2. Range of Winner total = Range of Loser total (Max win - min win = Max loser - Min loser)\n"
   ]
  },
  {
   "cell_type": "markdown",
   "metadata": {},
   "source": [
    "## Step 4.2\n",
    "What proportion of games resulted in a winner that had a lower initial total than their opponent? What was the lowest initial total to win a\n",
    "game (or conversely, the highest initial total to lose a game)?"
   ]
  },
  {
   "cell_type": "code",
   "execution_count": 653,
   "metadata": {},
   "outputs": [
    {
     "name": "stdout",
     "output_type": "stream",
     "text": [
      "Number of games that resulted in a winner that had a lower initial total than their opponent = 4\n",
      "Proportion of games that resulted in a winner that had a lower initial total than their opponent = 0.2\n",
      "Lowest initial total to win a game = 168\n",
      "Highest initial total to lose a game = 196\n"
     ]
    }
   ],
   "source": [
    "#Calculating proportion of games that resulted in a winner that had a lower initial total than their opponent \n",
    "#Lowest initial total to win a game\n",
    "#Highest initial total to lose a game\n",
    "for i in range (20):\n",
    "    if Winner_Initial_List[i] < Loser_Initial_List[i]:\n",
    "        count = count + 1\n",
    "print(\"Number of games that resulted in a winner that had a lower initial total than their opponent = \" + str(count))\n",
    "proportion = count/20\n",
    "print(\"Proportion of games that resulted in a winner that had a lower initial total than their opponent = \"+str(proportion))\n",
    "\n",
    "print(\"Lowest initial total to win a game = \"+str(min(Winner_Initial_List)))\n",
    "print(\"Highest initial total to lose a game = \"+str(max(Loser_Initial_List)))"
   ]
  },
  {
   "cell_type": "markdown",
   "metadata": {},
   "source": [
    "## Step 4.3\n",
    "Calculate the (linear) correlation between the initial and final totals for winners vs. losers? What do you observe about the respective\n",
    "correlations, and what do these correlations tell you about the relationship between the initial and final totals?"
   ]
  },
  {
   "cell_type": "code",
   "execution_count": 654,
   "metadata": {},
   "outputs": [
    {
     "name": "stdout",
     "output_type": "stream",
     "text": [
      "[[1.         0.65788404]\n",
      " [0.65788404 1.        ]]\n",
      "[[1.         0.65788404]\n",
      " [0.65788404 1.        ]]\n"
     ]
    }
   ],
   "source": [
    "#Correlation coefficient for Winner Initial and Winner Final Scores\n",
    "#Correlation coefficient for Loser Initial and Loser Final Scores\n",
    "\n",
    "\n",
    "Winner_Corr = np.corrcoef(Winner_Final_List, Winner_Initial_List)\n",
    "Loser_Corr = np.corrcoef(Loser_Final_List, Loser_Initial_List)\n",
    "print(Winner_Corr)\n",
    "print(Loser_Corr)"
   ]
  },
  {
   "cell_type": "markdown",
   "metadata": {},
   "source": [
    "#### Strong positive correlations in both cases indicates that as the value of initial total increases, the value of final total also increases. This indicates having a higher initial total leads to greater chances of a higher final total as well. \n",
    "\n",
    "#### Winner and loser correlation coefficients are same. "
   ]
  }
 ],
 "metadata": {
  "kernelspec": {
   "display_name": "Python 3",
   "language": "python",
   "name": "python3"
  },
  "language_info": {
   "codemirror_mode": {
    "name": "ipython",
    "version": 3
   },
   "file_extension": ".py",
   "mimetype": "text/x-python",
   "name": "python",
   "nbconvert_exporter": "python",
   "pygments_lexer": "ipython3",
   "version": "3.7.3"
  }
 },
 "nbformat": 4,
 "nbformat_minor": 2
}
